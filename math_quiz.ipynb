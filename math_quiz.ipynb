{
  "nbformat": 4,
  "nbformat_minor": 0,
  "metadata": {
    "colab": {
      "provenance": [],
      "authorship_tag": "ABX9TyMbSD7SqHf6D8lTKceP4KfL",
      "include_colab_link": true
    },
    "kernelspec": {
      "name": "python3",
      "display_name": "Python 3"
    },
    "language_info": {
      "name": "python"
    }
  },
  "cells": [
    {
      "cell_type": "markdown",
      "metadata": {
        "id": "view-in-github",
        "colab_type": "text"
      },
      "source": [
        "<a href=\"https://colab.research.google.com/github/ShivangiU2/python-journey/blob/main/math_quiz.ipynb\" target=\"_parent\"><img src=\"https://colab.research.google.com/assets/colab-badge.svg\" alt=\"Open In Colab\"/></a>"
      ]
    },
    {
      "cell_type": "code",
      "execution_count": 7,
      "metadata": {
        "colab": {
          "base_uri": "https://localhost:8080/"
        },
        "id": "MfCeHAV94af0",
        "outputId": "920646fe-367d-445b-ec67-536bf3c89a37"
      },
      "outputs": [
        {
          "output_type": "stream",
          "name": "stdout",
          "text": [
            "\n",
            "--- Welcome to the Mat Quiz Game! ---\n",
            "Your will be presented with maths pproblems, and you need to provide the correct answers.\n",
            "\n",
            " Question1: 5 - 1\n",
            "Your answer:0\n",
            "wrong! the correct aswer is: 4\n",
            "\n",
            " Question2: 8 * 2\n",
            "Your answer:0\n",
            "wrong! the correct aswer is: 16\n",
            "\n",
            " Question3: 9 + 10\n",
            "Your answer:0\n",
            "wrong! the correct aswer is: 19\n",
            "\n",
            " Question4: 10 - 8\n",
            "Your answer:0\n",
            "wrong! the correct aswer is: 2\n",
            "\n",
            " Question5: 5 + 9\n",
            "Your answer:0\n",
            "wrong! the correct aswer is: 14\n",
            "\n",
            "--- Game Over!---\n",
            "Your final score is: 0/5\n",
            "Keep practicing! You can do better next time.\n"
          ]
        }
      ],
      "source": [
        "import random\n",
        "def generate_question():\n",
        "  num1=random.randint(1,10)\n",
        "  num2=random.randint(1,10)\n",
        "  operator=random.choice(['+','-','*'])\n",
        "  if operator=='+':\n",
        "    answer=num1+num2\n",
        "  elif operator=='-':\n",
        "    answer=num1-num2\n",
        "  else:\n",
        "    answer=num1*num2\n",
        "  return f\"{num1} {operator} {num2}\",answer\n",
        "\n",
        "def math_quiz():\n",
        "  score=0\n",
        "  round=5\n",
        "  print(\"\\n--- Welcome to the Mat Quiz Game! ---\")\n",
        "  print(\"Your will be presented with maths problems, and you need to provide the correct answers.\")\n",
        "\n",
        "  for i in range(round):\n",
        "    question, correct_answer=generate_question()\n",
        "    print(f\"\\n Question{(i+1)}: {question}\")\n",
        "    user_answer=int(input(\"Your answer:\"))\n",
        "\n",
        "    if user_answer == correct_answer:\n",
        "      print(\"Correct!\")\n",
        "      score+=1\n",
        "    else:\n",
        "      print(f\"wrong! the correct aswer is: {correct_answer}\")\n",
        "  print(\"\\n--- Game Over!---\")\n",
        "  print(f\"Your final score is: {score}/{round}\")\n",
        "  if score== round:\n",
        "    print(\"Congratulations! You got all the questions correct\")\n",
        "  elif score>= round//2:\n",
        "    print(\"Good job! You did well.\")\n",
        "  else:\n",
        "    print(\"Keep practicing! You can do better next time.\")\n",
        "\n",
        "math_quiz()\n"
      ]
    }
  ]
}