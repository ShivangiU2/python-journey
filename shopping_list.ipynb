{
  "nbformat": 4,
  "nbformat_minor": 0,
  "metadata": {
    "colab": {
      "provenance": [],
      "authorship_tag": "ABX9TyMUY3nY8Cqv4xuTMZEbnN2D",
      "include_colab_link": true
    },
    "kernelspec": {
      "name": "python3",
      "display_name": "Python 3"
    },
    "language_info": {
      "name": "python"
    }
  },
  "cells": [
    {
      "cell_type": "markdown",
      "metadata": {
        "id": "view-in-github",
        "colab_type": "text"
      },
      "source": [
        "<a href=\"https://colab.research.google.com/github/ShivangiU2/python-journey/blob/main/shopping_list.ipynb\" target=\"_parent\"><img src=\"https://colab.research.google.com/assets/colab-badge.svg\" alt=\"Open In Colab\"/></a>"
      ]
    },
    {
      "cell_type": "code",
      "execution_count": null,
      "metadata": {
        "id": "eZNbbZdBdwID"
      },
      "outputs": [],
      "source": [
        "#Shopping list app\n",
        "shopping_list=[]\n",
        "def show_menu():\n",
        "  print(\"\\n---Shopping List Menu ---\")\n",
        "  print(\"1.View the shopping list\")\n",
        "  print(\"2. Add an item\")\n",
        "  print(\"3. Remove an item\")\n",
        "  print(\"4. Clear List\")\n",
        "  print(\"5.Exit\")\n",
        "\n",
        "while True:\n",
        "  show_menu()\n",
        "  choice=input(\"Enter your choice(1-5)\")\n",
        "\n",
        "  if choice==\"1\":\n",
        "    print(\"\\n---Shopping List ---\")\n",
        "    if not shopping_list:\n",
        "      print(\"Your shopping list is empty\")\n",
        "    else:\n",
        "      for index, item in enumerate(shopping_list):\n",
        "        print(f\"{index+1}.{item}\")\n",
        "\n",
        "  elif choice==\"2\":\n",
        "    item= input(\"Enter the item to add:\")\n",
        "    shopping_list.append(item)\n",
        "    print(f\"{item} has been added to the shopping list.\")\n",
        "\n",
        "  elif choice==\"3\":\n",
        "    item=input(\"Enter the item to remove:\")\n",
        "    if item in shopping_list:\n",
        "      shopping_list.remove(item)\n",
        "      print(f\"{item} has been removed from the shopping list.\")\n",
        "    else:\n",
        "      print(f\"{item} is not in the shopping list\")\n",
        "\n",
        "  elif choice==\"4\":\n",
        "      shopping_list.clear()\n",
        "      print(\"The shopping list has been cleared\")\n",
        "\n",
        "  elif choice==\"5\":\n",
        "      print(\"Goodbye! Happy Shopping\")\n",
        "      break;\n",
        "\n",
        "  else:\n",
        "      print(\"Invalid choice, please try again\")\n",
        "\n",
        "\n",
        "\n"
      ]
    }
  ]
}